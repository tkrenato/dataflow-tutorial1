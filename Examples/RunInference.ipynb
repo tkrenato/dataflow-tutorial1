{
  "cells": [
   {
    "cell_type": "markdown",
    "id": "b6f8f3af-744e-4eaa-8a30-6d03e8e4d21e",
    "metadata": {},
    "source": [
     "# RunInference\n",
     "\n",
     "\n",
     "In this notebook, we walk through the use of the RunInference transform.\n",
     "The transform and its accompanying [ModelHandler](https://beam.apache.org/releases/pydoc/current/apache_beam.ml.inference.base.html#apache_beam.ml.inference.base.ModelHandler) classes handle the following tasks:\n",
     "\n",
     "\n",
     "*   Optimizing loading models from popular frameworks.\n",
     "*   Batching examples in a scalable fashion.\n",
     "\n",
     "\n",
     "This notebook illustrates common RunInference patterns such as the following:\n",
     "*   Generating predictions using both Pytorch and Scikit-learn.\n",
     "*   Post processing results after RunInference.\n",
     "*   Inference with multiple models in the same pipeline.\n",
     "\n",
     "The linear regression models used in these samples are trained on data that correspondes to the 5 and 10 times table; that is,`y = 5x` and `y = 10x` respectively.\n",
     "\n",
     "**NOTE**: This notebook visualizes outputs as Pandas DataFrame using the `interactibe_beam.collect()` method."
    ]
   },
   {
    "cell_type": "markdown",
    "id": "299af9bb-b2fc-405c-96e7-ee0a6ae24bdd",
    "metadata": {},
    "source": [
     "### Dependencies\n",
     "\n",
     "The RunInference library is available in Apache Beam version <b>2.40</b> or later.\n",
     "\n",
     "Pytorch module is needed to use Pytorch RunInference API. use `pip` to install Pytorch."
    ]
   },
   {
    "cell_type": "code",
    "execution_count": 1,
    "id": "7f841596-f217-46d2-b64e-1952db4de4cb",
    "metadata": {},
    "outputs": [
     {
      "name": "stdout",
      "output_type": "stream",
      "text": [
       "Requirement already satisfied: torch in ./dev/lib/python3.7/site-packages (1.12.0)\n",
       "Requirement already satisfied: typing-extensions in ./dev/lib/python3.7/site-packages (from torch) (4.2.0)\n",
       "\u001b[33mWARNING: There was an error checking the latest version of pip.\u001b[0m\u001b[33m\n",
       "\u001b[0mNote: you may need to restart the kernel to use updated packages.\n"
      ]
     }
    ],
    "source": [
     "%pip install torch"
    ]
   },
   {
    "cell_type": "code",
    "execution_count": null,
    "id": "9a92e3a7-beb6-46ae-a5b0-53c15487de38",
    "metadata": {},
    "outputs": [],
    "source": [
     "import argparse\n",
     "import json\n",
     "import os\n",
     "import torch\n",
     "from typing import Tuple\n",
     "\n",
     "import apache_beam as beam\n",
     "import apache_beam.runners.interactive.interactive_beam as ib\n",
     "import numpy\n",
     "from apache_beam.io.gcp.bigquery import ReadFromBigQuery\n",
     "from apache_beam.ml.inference.base import KeyedModelHandler\n",
     "from apache_beam.ml.inference.base import PredictionResult\n",
     "from apache_beam.ml.inference.base import RunInference\n",
     "from apache_beam.dataframe.convert import to_pcollection\n",
     "from apache_beam.ml.inference.pytorch_inference import PytorchModelHandlerTensor\n",
     "from apache_beam.ml.inference.pytorch_inference import PytorchModelHandlerKeyedTensor\n",
     "from apache_beam.options.pipeline_options import PipelineOptions\n",
     "from apache_beam.runners.interactive import interactive_runner\n"

    ]
   },
   {
    "cell_type": "code",
    "execution_count": null,
    "id": "248458a6-cfd8-474d-ad0e-f37f7ae981ae",
    "metadata": {},
    "outputs": [],
    "source": [
     "# Constants\n",
     "import google.auth\n",
     "_, project = google.auth.default()\n",
     "bucket = \"gs://<your-bucket>\"\n",
     "\n",
     "save_model_dir_multiply_five = 'five_times_table_torch.pt'\n",
     "save_model_dir_multiply_ten = 'ten_times_table_torch.pt'"
    ]
   },
   {
    "cell_type": "markdown",
    "id": "b2b7cedc-79f5-4599-8178-e5da35dba032",
    "metadata": {
     "tags": []
    },
    "source": [
     "## Create data and Pytorch models for RunInference transform"
    ]
   },
   {
    "cell_type": "markdown",
    "id": "202e5a3e-4ccd-4ae3-9852-e47de0721839",
    "metadata": {},
    "source": [
     "### Linear regression model in Pytorch."
    ]
   },
   {
    "cell_type": "code",
    "execution_count": null,
    "id": "68bf8bf0-f735-45ee-8ebb-a2d8bb8a6bc7",
    "metadata": {},
    "outputs": [],
    "source": [
     "class LinearRegression(torch.nn.Module):\n",
     "    def __init__(self, input_dim=1, output_dim=1):\n",
     "        super().__init__()\n",
     "        self.linear = torch.nn.Linear(input_dim, output_dim)  \n",
     "    def forward(self, x):\n",
     "        out = self.linear(x)\n",
     "        return out"
    ]
   },
   {
    "cell_type": "markdown",
    "id": "1918435c-0029-4eb6-8eee-bda5470eb2ff",
    "metadata": {},
    "source": [
     "### Prepare train and test data to train a 5 times model.\n",
     "* `x` contains values in the range from 0 to 99.\n",
     "* `y` is a list of 5 * `x`. \n",
     "* `value_to_predict` includes values outside of the training data."
    ]
   },
   {
    "cell_type": "code",
    "execution_count": null,
    "id": "9302917f-6200-4af4-a410-4bd6f2a070b8",
    "metadata": {},
    "outputs": [],
    "source": [
     "x = numpy.arange(0, 100, dtype=numpy.float32).reshape(-1, 1)\n",
     "y = (x * 5).reshape(-1, 1)\n",
     "value_to_predict = numpy.array([20, 40, 60, 90], dtype=numpy.float32).reshape(-1, 1)"
    ]
   },
   {
    "cell_type": "markdown",
    "id": "9dc22aec-08c3-43ab-a5ce-451cb63c485a",
    "metadata": {},
    "source": [
     "### Train the linear regression mode on 5 times data."
    ]
   },
   {
    "cell_type": "code",
    "execution_count": null,
    "id": "0a8b7924-ff06-4584-8f41-079268387a67",
    "metadata": {},
    "outputs": [],
    "source": [
     "five_times_model = LinearRegression()\n",
     "optimizer = torch.optim.Adam(five_times_model.parameters())\n",
     "loss_fn = torch.nn.L1Loss()\n",
     "\n",
     "\"\"\"\n",
     "Train the five_times_model\n",
     "\"\"\"\n",
     "epochs = 10000\n",
     "tensor_x = torch.from_numpy(x)\n",
     "tensor_y = torch.from_numpy(y)\n",
     "for epoch in range(epochs):\n",
     "    y_pred = five_times_model(tensor_x)\n",
     "    loss = loss_fn(y_pred, tensor_y)\n",
     "    five_times_model.zero_grad()\n",
     "    loss.backward()\n",
     "    optimizer.step()"
    ]
   },
   {
    "cell_type": "markdown",
    "id": "bd106b29-6187-42c1-9743-1666c147b5e3",
    "metadata": {},
    "source": [
     "Save the model using `torch.save()` and verify if the saved model file exists."
    ]
   },
   {
    "cell_type": "code",
    "execution_count": null,
    "id": "882bbada-4f6d-4370-a047-c5961e564ee8",
    "metadata": {},
    "outputs": [],
    "source": [
     "torch.save(five_times_model.state_dict(), save_model_dir_multiply_five)\n",
     "print(os.path.exists(save_model_dir_multiply_five)) # verify if the model is saved"
    ]
   },
   {
    "cell_type": "markdown",
    "id": "fa84cfca-83c6-4a91-aea1-3dd034c42ae0",
    "metadata": {},
    "source": [
     "### Prepare train and test data to train a 10 times model.\n",
     "* `x` contains values in the range from 0 to 99.\n",
     "* `y` is a list of 10 * `x`. "
    ]
   },
   {
    "cell_type": "code",
    "execution_count": null,
    "id": "27e0d1f6-2c3e-4418-8fb0-b5b89ffa66d5",
    "metadata": {},
    "outputs": [],
    "source": [
     "x = numpy.arange(0, 100, dtype=numpy.float32).reshape(-1, 1)\n",
     "y = (x * 10).reshape(-1, 1)"
    ]
   },
   {
    "cell_type": "markdown",
    "id": "24d946dc-4fe0-4030-8f6a-aa8d27fd353d",
    "metadata": {},
    "source": [
     "### Train the linear regression model on 10 times data."
    ]
   },
   {
    "cell_type": "code",
    "execution_count": null,
    "id": "2b352313-b791-48fd-9b9d-b54233176416",
    "metadata": {},
    "outputs": [],
    "source": [
     "ten_times_model = LinearRegression()\n",
     "optimizer = torch.optim.Adam(ten_times_model.parameters())\n",
     "loss_fn = torch.nn.L1Loss()\n",
     "\n",
     "epochs = 10000\n",
     "tensor_x = torch.from_numpy(x)\n",
     "tensor_y = torch.from_numpy(y)\n",
     "for epoch in range(epochs):\n",
     "    y_pred = ten_times_model(tensor_x)\n",
     "    loss = loss_fn(y_pred, tensor_y)\n",
     "    ten_times_model.zero_grad()\n",
     "    loss.backward()\n",
     "    optimizer.step()"
    ]
   },
   {
    "cell_type": "markdown",
    "id": "6f959e3b-230b-45e2-9df3-dd1f11acacd7",
    "metadata": {},
    "source": [
     "Save the model using `torch.save()`"
    ]
   },
   {
    "cell_type": "code",
    "execution_count": null,
    "id": "42b2ca0f-5d44-4d15-a313-f3d56ae7f675",
    "metadata": {},
    "outputs": [],
    "source": [
     "torch.save(ten_times_model.state_dict(), save_model_dir_multiply_ten)\n",
     "print(os.path.exists(save_model_dir_multiply_ten)) # verify if the model is saved"
    ]
   },
   {
    "cell_type": "markdown",
    "id": "2e20efc4-13e8-46e2-9848-c0347deaa5af",
    "metadata": {},
    "source": [
     "# Pattern 1: RunInference for predictions."
    ]
   },
   {
    "cell_type": "markdown",
    "id": "1099fe94-d4cf-422e-a0d3-0cfba8af64d5",
    "metadata": {},
    "source": [
     "### Step 1 - Use RunInference within the pipeline.\n",
     "\n",
     "1. Create pytorch model handler object by passing required arguments such as `state_dict_path`, `model_class`, `model_params` to the `PytorchModelHandlerTensor` class.\n",
     "2. Pass the `PytorchModelHandlerTensor` object to the RunInference transform to peform prediction on unkeyed data."
    ]
   },
   {
    "cell_type": "code",
    "execution_count": null,
    "id": "e488a821-3b70-4284-96f3-ddee4dcb9d71",
    "metadata": {},
    "outputs": [],
    "source": [
     "torch_five_times_model_handler = PytorchModelHandlerTensor(\n",
     "    state_dict_path=save_model_dir_multiply_five,\n",
     "    model_class=LinearRegression,\n",
     "    model_params={'input_dim': 1,\n",
     "                  'output_dim': 1}\n",
     "                  )\n",
     "pipeline = beam.Pipeline(interactive_runner.InteractiveRunner())\n",
     "\n",
     "inference_result = (\n",
     "    pipeline \n",
     "    | \"ReadInputData\" >> beam.Create(value_to_predict)\n",
     "    | \"ConvertNumpyToTensor\" >> beam.Map(torch.Tensor)\n",
     "    | \"RunInferenceTorch\" >> RunInference(torch_five_times_model_handler)\n",
     "    )\n",
     "ib.collect(inference_result)"
    ]
   },
   {
    "cell_type": "markdown",
    "id": "9d95e69b-203f-4abb-9abb-360bdf4d769a",
    "metadata": {},
    "source": [
     "# Pattern 2: Post-process RunInference results.\n",
     "Add a `PredictionProcessor` to the pipeline after `RunInference`. `PredictionProcessor` processes the output of the `RunInference` transform."
    ]
   },
   {
    "cell_type": "code",
    "execution_count": null,
    "id": "96f38a5a-4db0-4c39-8ce7-80d9f9911b48",
    "metadata": {},
    "outputs": [],
    "source": [
     "class PredictionProcessor(beam.DoFn):\n",
     "  \"\"\"\n",
     "  A processor to format the output of the RunInference transform.\n",
     "  \"\"\"\n",
     "  def process(\n",
     "      self,\n",
     "      element: PredictionResult):\n",
     "    input_value = element.example\n",
     "    output_value = element.inference\n",
     "    yield (f\"input is {input_value.item()} output is {output_value.item()}\")\n",
     "\n",
     "pipeline = beam.Pipeline(interactive_runner.InteractiveRunner())\n",
     "inference_result = (\n",
     "        pipeline\n",
     "        | \"ReadInputData\" >> beam.Create(value_to_predict)\n",
     "        | \"ConvertNumpyToTensor\" >> beam.Map(torch.Tensor)\n",
     "        | \"RunInferenceTorch\" >> RunInference(torch_five_times_model_handler)\n",
     "        | \"PostProcessPredictions\" >> beam.ParDo(PredictionProcessor())\n",
     "        )\n",
     "ib.collect(inference_result)"
    ]
   },
   {
    "cell_type": "markdown",
    "id": "2be80463-cf79-481c-9d6a-81e500f1707b",
    "metadata": {},
    "source": [
     "# Pattern 3: Attach a key"
    ]
   },
   {
    "cell_type": "markdown",
    "id": "f22da313-5bf8-4334-865b-bbfafc374e63",
    "metadata": {},
    "source": [
     "## Step 1 - Create a source with attached key.\n"
    ]
   },
   {
    "cell_type": "markdown",
    "id": "746b67a7-3562-467f-bea3-d8cd18c14927",
    "metadata": {},
    "source": [
     "## Step 2 - Modify model handler and post processor.\n",
     "* Modify the pipeline to read from sources like CSV files and BigQuery.\n",
     "\n",
     "In this step we:\n",
     "\n",
     "* Wrap the `PytorchModelHandlerTensor` object around `KeyedModelHandler` to handle keyed data.\n",
     "* Add a map transform, which converts a table row into `Tuple[str, float]`.\n",
     "* Add a map transform which converts `Tuple[str, float]` from  to `Tuple[str, torch.Tensor]`.\n",
     "* Modify the post inference processor to output results along with the key."
    ]
   },
   {
    "cell_type": "code",
    "execution_count": null,
    "id": "90b263fc-97a5-43dc-8874-083d7e65e96d",
    "metadata": {},
    "outputs": [],
    "source": [
     "class PredictionWithKeyProcessor(beam.DoFn):\n",
     "    def __init__(self):\n",
     "        beam.DoFn.__init__(self)\n",
     "\n",
     "    def process(\n",
     "          self,\n",
     "          element: Tuple[str, PredictionResult]):\n",
     "        key = element[0]\n",
     "        input_value = element[1].example\n",
     "        output_value = element[1].inference\n",
     "        yield (f\"key: {key}, input: {input_value.item()} output: {output_value.item()}\" )"
    ]
   },
   {
    "cell_type": "markdown",
    "id": "c9b0fb49-d605-4f26-931a-57f42b0ad253",
    "metadata": {},
    "source": [
     "#### Use BigQuery as the source."
    ]
   },
   {
    "cell_type": "markdown",
    "id": "45ce4330-7d33-4c53-8033-f4fa02383894",
    "metadata": {},
    "source": [
     "Install Google Cloud BigQuery API using `pip`."
    ]
   },
   {
    "cell_type": "code",
    "execution_count": null,
    "id": "4eb859dd-ba54-45a1-916b-5bbe4dc3f16e",
    "metadata": {},
    "outputs": [],
    "source": [
     "%pip install --upgrade google-cloud-bigquery --quiet"
    ]
   },
   {
    "cell_type": "markdown",
    "id": "6e869347-dd49-40be-b1e5-749699dc0d83",
    "metadata": {},
    "source": [
     "Create a table in the BigQuery using the snippet below, which has two columns: One holds the key and the second holds the test value. To use BiqQuery, a Google Cloud account with the BigQuery API enabled is required."
    ]
   },
   {
    "cell_type": "code",
    "execution_count": null,
    "id": "a6a984cd-2e92-4c44-821b-9bf1dd52fb7d",
    "metadata": {},
    "outputs": [],
    "source": [
     "from google.cloud import bigquery\n",
     "\n",
     "client = bigquery.Client()\n",
     "\n",
     "# Make sure the dataset_id is unique in your project.\n",
     "dataset_id = '{project}.maths'.format(project=project)\n",
     "dataset = bigquery.Dataset(dataset_id)\n",
     "\n",
     "# Modify the location based on your project configuration.\n",
     "dataset.location = 'US'\n",
     "dataset = client.create_dataset(dataset, exists_ok=True, timeout=30)\n",
     "\n",
     "# Table name in the BigQuery dataset.\n",
     "table_name = 'maths_problems_2'\n",
     "\n",
     "query = \"\"\"\n",
     "    CREATE OR REPLACE TABLE\n",
     "      {project}.maths.{table} ( key STRING OPTIONS(description=\"A unique key for the maths problem\"),\n",
     "    value FLOAT64 OPTIONS(description=\"Our maths problem\" ) );\n",
     "    INSERT INTO maths.{table}\n",
     "    VALUES\n",
     "      (\"first_question\", 105.00),\n",
     "      (\"second_question\", 108.00),\n",
     "      (\"third_question\", 1000.00),\n",
     "      (\"fourth_question\", 1013.00)\n",
     "\"\"\".format(project=project, table=table_name)\n",
     "\n",
     "create_job = client.query(query)\n",
     "create_job.result()"
    ]
   },
   {
    "cell_type": "markdown",
    "id": "479c9319-3295-4288-971c-dd0f0adfdd1e",
    "metadata": {},
    "source": [
     "Use `BigQuery` as the source in the pipeline to read keyed data."
    ]
   },
   {
    "cell_type": "code",
    "execution_count": null,
    "id": "34331897-23f5-4850-8974-67e522e956dc",
    "metadata": {},
    "outputs": [],
    "source": [
     "pipeline_options = PipelineOptions().from_dictionary({'temp_location':f'{bucket}/tmp',\n",
     "                                                      })\n",
     "pipeline = beam.Pipeline(interactive_runner.InteractiveRunner(), options=pipeline_options)\n",
     "\n",
     "keyed_torch_five_times_model_handler = KeyedModelHandler(torch_five_times_model_handler)\n",
     "\n",
     "table_spec = f'{project}:maths.{table_name}'\n",
     "inference_result = (   \n",
     "    pipeline\n",
     "    | \"ReadFromBQ\" >> beam.io.ReadFromBigQuery(table=table_spec) \n",
     "    | \"PreprocessData\" >> beam.Map(lambda x: (x['key'], x['value']))\n",
     "    | \"ConvertNumpyToTensor\" >> beam.Map(lambda x: (x[0], torch.Tensor([x[1]])))\n",
     "    | \"RunInferenceTorch\" >> RunInference(keyed_torch_five_times_model_handler)\n",
     "    | \"PostProcessPredictions\" >> beam.ParDo(PredictionWithKeyProcessor())\n",
     "    )"
    ]
   },
   {
    "cell_type": "code",
    "execution_count": null,
    "id": "20974054-8607-4594-9ada-7e3768fcfc4b",
    "metadata": {},
    "outputs": [],
    "source": [
     "ib.collect(inference_result)"
    ]
   },
   {
    "cell_type": "markdown",
    "id": "53ee7f24-5625-475a-b8cc-9c031591f304",
    "metadata": {},
    "source": [
     "### Using CSV file as the source."
    ]
   },
   {
    "cell_type": "markdown",
    "id": "06bc4396-ee2e-4228-8548-f953b5020c4e",
    "metadata": {},
    "source": [
     "Create a CSV file with two columns: one named `key` that holds the keys, and a second named `value` that holds the test values."
    ]
   },
   {
    "cell_type": "code",
    "execution_count": null,
    "id": "9a054c2d-4d84-4b37-b067-1dda5347e776",
    "metadata": {},
    "outputs": [],
    "source": [
     "input_csv_file = \"../assets/run_inference/maths_problem.csv\"\n",
     "pipeline_options = PipelineOptions().from_dictionary({'temp_location':f'{bucket}/tmp',\n",
     "                                                      })\n",
     "pipeline = beam.Pipeline(interactive_runner.InteractiveRunner(), options=pipeline_options)\n",
     "\n",
     "keyed_torch_five_times_model_handler = KeyedModelHandler(torch_five_times_model_handler)\n",
     "\n",
     "df = pipeline | beam.dataframe.io.read_csv(input_csv_file)\n",
     "pc = to_pcollection(df)\n",
     "\n",
     "inference_result = (   \n",
     "    pc\n",
     "    | \"ConvertNumpyToTensor\" >> beam.Map(lambda x: (x[0], torch.Tensor([x[1]])))\n",
     "    | \"RunInferenceTorch\" >> RunInference(keyed_torch_five_times_model_handler)\n",
     "    | \"PostProcessPredictions\" >> beam.ParDo(PredictionWithKeyProcessor())\n",
     "    )"
    ]
   },
   {
    "cell_type": "code",
    "execution_count": null,
    "id": "5e554605-ca36-4e84-89ef-774e28109b6c",
    "metadata": {},
    "outputs": [],
    "source": [
     "ib.collect(inference_result)"
    ]
   },
   {
    "cell_type": "markdown",
    "id": "742abfbb-545e-435b-8833-2410ce29d22c",
    "metadata": {},
    "source": [
     "# Pattern 4: Inference with multiple models in the same pipeline.\n",
     "\n",
     "## Inference with multiple models in parallel. "
    ]
   },
   {
    "cell_type": "markdown",
    "id": "570b2f27-3beb-4295-b926-595592289c06",
    "metadata": {},
    "source": [
     "Create a torch model handler for the 10 times model using `PytorchModelHandlerTensor`."
    ]
   },
   {
    "cell_type": "code",
    "execution_count": null,
    "id": "73607c45-afe1-4990-9a55-e687ed40302e",
    "metadata": {},
    "outputs": [],
    "source": [
     "torch_ten_times_model_handler = PytorchModelHandlerTensor(state_dict_path=save_model_dir_multiply_ten,\n",
     "                                        model_class=LinearRegression,\n",
     "                                        model_params={'input_dim': 1,\n",
     "                                                      'output_dim': 1}\n",
     "                                        )\n",
     "keyed_torch_ten_times_model_handler = KeyedModelHandler(torch_ten_times_model_handler)"
    ]
   },
   {
    "cell_type": "markdown",
    "id": "70ebed52-4ead-4cae-ac96-8cf206012ce1",
    "metadata": {},
    "source": [
     "In this, the same data is run through two different models: the one that we’ve been using to multiply by 5 \n",
     "and a new model, which will learn to multiply by 10."
    ]
   },
   {
    "cell_type": "code",
    "execution_count": null,
    "id": "629d070e-9902-42c9-a1e7-56c3d1864f13",
    "metadata": {},
    "outputs": [],
    "source": [
     "pipeline_options = PipelineOptions().from_dictionary(\n",
     "                                      {'temp_location':f'{bucket}/tmp'})\n",
     "\n",
     "pipeline = beam.Pipeline(interactive_runner.InteractiveRunner(), options=pipeline_options)\n",
     "\n",
     "read_from_bq = beam.io.ReadFromBigQuery(table=table_spec)\n",
     "multiply_five = (\n",
     "    pipeline \n",
     "    |  read_from_bq\n",
     "    | \"CreateMultiplyFiveTuple\" >> beam.Map(lambda x: ('{} {}'.format(x['key'], '* 5'), x['value']))\n",
     "    | \"ConvertNumpyToTensorFiveTuple\" >> beam.Map(lambda x: (x[0], torch.Tensor([x[1]])))\n",
     "    | \"RunInferenceTorchFiveTuple\" >> RunInference(keyed_torch_ten_times_model_handler)\n",
     ")\n",
     "multiply_ten = (\n",
     "    pipeline \n",
     "    | read_from_bq \n",
     "    | \"CreateMultiplyTenTuple\" >> beam.Map(lambda x: ('{} {}'.format(x['key'], '* 10'), x['value']))\n",
     "    | \"ConvertNumpyToTensorTenTuple\" >> beam.Map(lambda x: (x[0], torch.Tensor([x[1]])))\n",
     "    | \"RunInferenceTorchTenTuple\" >> RunInference(keyed_torch_ten_times_model_handler)\n",
     ")\n",
     "\n",
     "inference_result = ((multiply_five, multiply_ten) | beam.Flatten() \n",
     "                                 | beam.ParDo(PredictionWithKeyProcessor()))"
    ]
   },
   {
    "cell_type": "code",
    "execution_count": null,
    "id": "93eafb52-d8eb-4c7e-93f9-e25ecb8144e8",
    "metadata": {},
    "outputs": [],
    "source": [
     "ib.collect(inference_result)"
    ]
   },
   {
    "cell_type": "markdown",
    "id": "e71e6706-5d8d-4322-9def-ac7fb20d4a50",
    "metadata": {},
    "source": [
     "## Inference with multiple models in sequence \n",
     "\n",
     "In a sequential pattern, data is sent to one or more models in sequence, \n",
     "with the output from each model chaining to the next model.\n",
     "\n",
     "1. Read the data from BigQuery.\n",
     "2. Map the data.\n",
     "3. RunInference with multiply by 5 model.\n",
     "4. Process the results.\n",
     "5. RunInference with multiply by 10 model.\n",
     "6. Process the results.\n"
    ]
   },
   {
    "cell_type": "code",
    "execution_count": null,
    "id": "8db9d649-5549-4b58-a9ad-7b8592c2bcbf",
    "metadata": {},
    "outputs": [],
    "source": [
     "def process_interim_inference(element):\n",
     "    key, prediction_result = element\n",
     "    input_value = prediction_result.example\n",
     "    inference = prediction_result.inference\n",
     "    formatted_input_value = 'original input is `{} {}`'.format(key, input_value)\n",
     "    return formatted_input_value, inference\n",
     "\n",
     "\n",
     "pipeline_options = PipelineOptions().from_dictionary(\n",
     "                                      {'temp_location':f'{bucket}/tmp'})\n",
     "pipeline = beam.Pipeline(interactive_runner.InteractiveRunner(), options=pipeline_options)\n",
     "\n",
     "multiply_five = (\n",
     "    pipeline \n",
     "    | beam.io.ReadFromBigQuery(table=table_spec) \n",
     "    | \"CreateMultiplyFiveTuple\" >> beam.Map(lambda x: (x['key'], x['value']))\n",
     "    | \"ConvertNumpyToTensorFiveTuple\" >> beam.Map(lambda x: (x[0], torch.Tensor([x[1]])))\n",
     "    | \"RunInferenceTorchFiveTuple\" >> RunInference(keyed_torch_five_times_model_handler)\n",
     ")\n",
     "\n",
     "inference_result = (\n",
     "  multiply_five \n",
     "    | \"ExtractResult\" >> beam.Map(process_interim_inference) \n",
     "    | \"RunInferenceTorchTenTuple\" >> RunInference(keyed_torch_ten_times_model_handler)\n",
     "    | beam.ParDo(PredictionWithKeyProcessor())\n",
     "  )"
    ]
   },
   {
    "cell_type": "code",
    "execution_count": null,
    "id": "44390873-818b-4049-9a15-9f90d9d84de0",
    "metadata": {},
    "outputs": [],
    "source": [
     "ib.collect(inference_result)"
    ]
   },
   {
    "cell_type": "markdown",
    "id": "32c9ba40-9396-48f4-9e7f-a2acced98bb2",
    "metadata": {},
    "source": [
     "# Sklearn implementation of RunInference API.\n",
     "\n",
     "Here, we showcase the Sklearn implementation of the RunInference API with the unkeyed data and the keyed data.\n",
     "\n",
     "Sklearn is a build-dependency of Apache Beam. If a different version of sklearn needs to be installed, use `%pip install scikit-learn==<version>`"
    ]
   },
   {
    "cell_type": "code",
    "execution_count": null,
    "id": "d6142b75-eef1-4e52-9fa4-fe02fe916b26",
    "metadata": {},
    "outputs": [],
    "source": [
     "import pickle\n",
     "from sklearn import linear_model\n",
     "\n",
     "import numpy as np\n",
     "from apache_beam.ml.inference.sklearn_inference import ModelFileType\n",
     "from apache_beam.ml.inference.sklearn_inference import SklearnModelHandlerNumpy"
    ]
   },
   {
    "cell_type": "markdown",
    "id": "6695cd22-e0bf-438f-8223-4a93392e6616",
    "metadata": {},
    "source": [
     "## Create the data and the Sklearn model.\n",
     "In this cell, we perform:\n",
     "1. Create the data to train the Sklearn linear regression model.\n",
     "2. Train the linear regression model.\n",
     "3. Save the Sklearn model using `pickle`."
    ]
   },
   {
    "cell_type": "code",
    "execution_count": null,
    "id": "c57843e8-f696-4196-ad39-827e34849976",
    "metadata": {},
    "outputs": [],
    "source": [
     "# Input data to train the sklearn model.\n",
     "x = numpy.arange(0, 100, dtype=numpy.float32).reshape(-1, 1)\n",
     "y = (x * 5).reshape(-1, 1)\n",
     "\n",
     "regression = linear_model.LinearRegression()\n",
     "regression.fit(x,y)\n",
     "\n",
     "sklearn_model_filename = 'sklearn_5x_model.pkl'\n",
     "with open(sklearn_model_filename, 'wb') as f:\n",
     "    pickle.dump(regression, f)"
    ]
   },
   {
    "cell_type": "markdown",
    "id": "69008a3d-3d15-4643-828c-b0419b347d01",
    "metadata": {},
    "source": [
     "### Scikit-learn RunInference pipeline.\n",
     "\n",
     "1. Define the Sklearn model handler that accepts array_like object as input.\n",
     "2. Read the data from BigQuery.\n",
     "3. Use the Sklearn trained model and the Sklearn RunInference transform on unkeyed data."
    ]
   },
   {
    "cell_type": "code",
    "execution_count": null,
    "id": "50a648a3-794a-4286-ab2b-fc0458db04ca",
    "metadata": {},
    "outputs": [],
    "source": [
     "# SklearnModelHandlerNumpy accepts only unkeyed examples.\n",
     "sklearn_model_handler = SklearnModelHandlerNumpy(model_uri=sklearn_model_filename,\n",
     "                                                 model_file_type=ModelFileType.PICKLE) # Use ModelFileType.JOBLIB if the model is seriazlized using joblib.\n",
     "\n",
     "\n",
     "pipeline_options = PipelineOptions().from_dictionary(\n",
     "                                      {'temp_location':f'{bucket}/tmp'})\n",
     "pipeline = beam.Pipeline(interactive_runner.InteractiveRunner(), options=pipeline_options)\n",
     "\n",
     "inference_result = (\n",
     "    pipeline \n",
     "    | \"ReadFromBQ\" >> beam.io.ReadFromBigQuery(table=table_spec)\n",
     "    | \"ExtractInputs\" >> beam.Map(lambda x: [x['value']]) \n",
     "    | \"RunInferenceSklearn\" >> RunInference(model_handler=sklearn_model_handler)\n",
     ")"
    ]
   },
   {
    "cell_type": "code",
    "execution_count": null,
    "id": "2cd7e76e-fbca-422e-8fa8-d370cae4d76c",
    "metadata": {},
    "outputs": [],
    "source": [
     "ib.collect(inference_result)"
    ]
   },
   {
    "cell_type": "markdown",
    "id": "33e901d6-ed06-4268-8a5f-685d31b5558f",
    "metadata": {},
    "source": [
     "### Sklearn RunInference on keyed inputs.\n",
     "1. Wrap the `SklearnModelHandlerNumpy` object around `KeyedModelHandler` to handle keyed data.\n",
     "2. Read the data from BigQuery.\n",
     "3. Use the Sklearn trained model and the Sklearn RunInference transform on a keyed data."
    ]
   },
   {
    "cell_type": "code",
    "execution_count": null,
    "id": "c212916d-b517-4589-ad15-a3a1df926fb3",
    "metadata": {},
    "outputs": [],
    "source": [
     "sklearn_model_handler = SklearnModelHandlerNumpy(model_uri=sklearn_model_filename,\n",
     "                                                 model_file_type=ModelFileType.PICKLE) # Use ModelFileType.JOBLIB if the model is serialized using joblib.\n",
     "\n",
     "keyed_sklearn_model_handler = KeyedModelHandler(sklearn_model_handler)\n",
     "\n",
     "pipeline_options = PipelineOptions().from_dictionary(\n",
     "                                      {'temp_location':f'{bucket}/tmp'})\n",
     "pipeline = beam.Pipeline(interactive_runner.InteractiveRunner(), options=pipeline_options)\n",
     "\n",
     "inference_result = (\n",
     "  pipeline \n",
     "  | \"ReadFromBQ\" >> beam.io.ReadFromBigQuery(table=table_spec)\n",
     "  | \"ExtractInputs\" >> beam.Map(lambda x: (x['key'], [x['value']])) \n",
     "  | RunInference(model_handler=keyed_sklearn_model_handler)\n",
     "  )"
    ]
   },
   {
    "cell_type": "code",
    "execution_count": null,
    "id": "577b91ed-3b07-475a-8a50-5907a2c428dc",
    "metadata": {},
    "outputs": [],
    "source": [
     "ib.collect(inference_result)"
    ]
   },
   {
    "cell_type": "markdown",
    "id": "f1481883-423b-4da0-8ae0-1a602b1807c6",
    "metadata": {},
    "source": [
     "# Cross framework transforms in a single pipeline\n",
     "\n",
     "In this pipeline, RunInference transforms of different frameworks are used in a single pipeline sequentially. \n",
     "\n",
     "In the below cells, we perform the following actions:\n",
     "1. Create `KeyedModelHandler` for Sklearn and Pytorch. \n",
     "2. Run inference on Sklearn and perform intermediate processing using `process_interim_inference`.\n",
     "3. Take the intermediate result from Sklearn RunInference transform and run that through Pytorch RunInference transform."
    ]
   },
   {
    "cell_type": "code",
    "execution_count": null,
    "id": "a45d496c-4d7b-4173-b27b-253c5767bb8d",
    "metadata": {},
    "outputs": [],
    "source": [
     "def process_interim_inference(element: Tuple[str, PredictionResult]):\n",
     "    \"\"\"\n",
     "    Returns the key and the prediction to the next RunInference transform.\n",
     "    \"\"\"\n",
     "    key, prediction_result = element\n",
     "    prediction = prediction_result.inference\n",
     "    return key, prediction\n",
     "\n",
     "class PredictionProcessor(beam.DoFn):\n",
     "    def process(self, element: Tuple[str, PredictionResult]):\n",
     "        key, prediction_result = element\n",
     "        input_from_upstream = prediction_result.example\n",
     "        prediction = prediction_result.inference\n",
     "        yield (key, prediction.item())"
    ]
   },
   {
    "cell_type": "code",
    "execution_count": null,
    "id": "ada71e7d-cf29-4441-a921-310c05fa8576",
    "metadata": {},
    "outputs": [],
    "source": [
     "pipeline_options = PipelineOptions().from_dictionary(\n",
     "                                      {'temp_location':f'{bucket}/tmp'})\n",
     "pipeline = beam.Pipeline(interactive_runner.InteractiveRunner(), options=pipeline_options)\n",
     "\n",
     "read_from_bq = beam.io.ReadFromBigQuery(table=table_spec)\n",
     "keyed_inputs = \"ExtractKeyedInputs\" >> beam.Map(lambda x: (x['key'], [x['value']]))\n",
     "\n",
     "keyed_sklearn_model_handler = KeyedModelHandler(SklearnModelHandlerNumpy(\n",
     "    model_uri=sklearn_model_filename,\n",
     "    model_file_type=ModelFileType.PICKLE))\n",
     "\n",
     "keyed_torch_model_handler = KeyedModelHandler(PytorchModelHandlerTensor(\n",
     "    state_dict_path=save_model_dir_multiply_ten,\n",
     "    model_class=LinearRegression,\n",
     "    model_params={'input_dim': 1,\n",
     "                  'output_dim': 1}))\n",
     "\n",
     "\n",
     "sklearn_inference_result = (\n",
     "    pipeline\n",
     "    | read_from_bq\n",
     "    | keyed_inputs\n",
     "    | \"RunInferenceSklearn\" >> RunInference(model_handler=keyed_sklearn_model_handler)\n",
     "    | \"ExtractOutputs\" >> beam.Map(process_interim_inference)\n",
     ")\n",
     "\n",
     "torch_inference_result = (\n",
     "    sklearn_inference_result\n",
     "    | \"ConvertNumpyToTensorFiveTuple\" >> beam.Map(lambda x: (x[0], torch.Tensor([x[1]])))\n",
     "    | \"RunInferenceTorchFiveTuple\" >> RunInference(keyed_torch_five_times_model_handler)\n",
     "    | \"ProcessPredictions\" >> beam.ParDo(PredictionProcessor())\n",
     ")\n"
    ]
   },
   {
    "cell_type": "markdown",
    "id": "e94f5a86-0610-4b4f-8073-5d24aab3db70",
    "metadata": {},
    "source": [
     "Inspect Sklearn pipeline result"
    ]
   },
   {
    "cell_type": "code",
    "execution_count": null,
    "id": "5c54a3d6-3638-4464-84c7-e1ed50b80e1b",
    "metadata": {},
    "outputs": [],
    "source": [
     "ib.collect(sklearn_inference_result)"
    ]
   },
   {
    "cell_type": "markdown",
    "id": "fa7a0c1c-ad7a-47e5-870c-3aa9ce86a160",
    "metadata": {},
    "source": [
     "Inspect Pytorch pipeline result"
    ]
   },
   {
    "cell_type": "code",
    "execution_count": null,
    "id": "d944b226-a372-41b2-9e81-f06a0c656c0e",
    "metadata": {},
    "outputs": [],
    "source": [
     "ib.collect(torch_inference_result)"
    ]
   }
  ],
  "metadata": {
   "language_info": {
    "codemirror_mode": {
     "name": "ipython",
     "version": 3
    },
    "file_extension": ".py",
    "mimetype": "text/x-python",
    "name": "python",
    "nbconvert_exporter": "python",
    "pygments_lexer": "ipython3",
    "version": "3.7.12"
   }
  },
  "nbformat": 4,
  "nbformat_minor": 5
 }
 