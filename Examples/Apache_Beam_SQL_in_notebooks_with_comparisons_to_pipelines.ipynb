{
  "cells": [
    {
      "cell_type": "markdown",
      "id": "394e1cd2",
      "metadata": {},
      "source": [
        "##### Copyright 2021 Google Inc.\n",
        "\n",
        "Licensed under the Apache License, Version 2.0 (the \"License\").\n",
        "\u003c!--\n",
        "    Licensed to the Apache Software Foundation (ASF) under one\n",
        "    or more contributor license agreements.  See the NOTICE file\n",
        "    distributed with this work for additional information\n",
        "    regarding copyright ownership.  The ASF licenses this file\n",
        "    to you under the Apache License, Version 2.0 (the\n",
        "    \"License\"); you may not use this file except in compliance\n",
        "    with the License.  You may obtain a copy of the License at\n",
        "\n",
        "      http://www.apache.org/licenses/LICENSE-2.0\n",
        "\n",
        "    Unless required by applicable law or agreed to in writing,\n",
        "    software distributed under the License is distributed on an\n",
        "    \"AS IS\" BASIS, WITHOUT WARRANTIES OR CONDITIONS OF ANY\n",
        "    KIND, either express or implied.  See the License for the\n",
        "    specific language governing permissions and limitations\n",
        "    under the License.\n",
        "--\u003e\n"
      ]
    },
    {
      "cell_type": "markdown",
      "id": "04f8b934-ed50-482e-bf36-fa65c766b990",
      "metadata": {
        "tags": []
      },
      "source": [
        "# Beam SQL in notebooks\n",
        "## What's the difference between pipelines using Beam SQL and those not using it?\n",
        "\n",
        "This example uses the COVID postive case analysis to demonstrate the difference between pipelines using Beam SQL and those not using it. Please run `Apache_Beam_SQL_in_notebooks.ipynb` to learn Beam SQL basics."
      ]
    },
    {
      "cell_type": "code",
      "execution_count": null,
      "id": "3b4a6b21-cc5c-47f2-82d8-e4ec44d143de",
      "metadata": {},
      "outputs": [],
      "source": [
        "# The notebook environment should have docker and jdk 1.8 installed.\n",
        "!docker image list\n",
        "!java -version"
      ]
    },
    {
      "cell_type": "code",
      "execution_count": null,
      "id": "0b5d5c83-d14e-4787-a850-de14f4075f48",
      "metadata": {},
      "outputs": [],
      "source": [
        "# Optionally sets the logging level to reduce distraction.\n",
        "import logging\n",
        "\n",
        "logging.root.setLevel(logging.ERROR)"
      ]
    },
    {
      "cell_type": "markdown",
      "id": "db1a273d-b367-4e40-9804-536ee6f7fe33",
      "metadata": {
        "tags": []
      },
      "source": [
        "Let's build a pipeline to find out the data for the state with the most COVID positive cases on a specific day.\n",
        "## A pipeline without using Beam SQL"
      ]
    },
    {
      "cell_type": "markdown",
      "id": "7c487dfc-5958-4af9-8921-8a9496b1191e",
      "metadata": {},
      "source": [
        "### Get the data"
      ]
    },
    {
      "cell_type": "code",
      "execution_count": null,
      "id": "b95aa0b0-b89c-4214-9140-43e7e80c64c7",
      "metadata": {},
      "outputs": [],
      "source": [
        "# The covidtracking project has stopped collecting new data, current data ends on 2021-03-07\n",
        "# 'https://covidtracking.com/api/v1/states/current.json' stops working.\n",
        "# Here, we load the covid case data on 2021-03-07 under assets\n",
        "import json\n",
        "with open(\"../assets/covid_case_20210307.json\", \"r\") as fh:\n",
        "    current_data = json.load(fh)"
      ]
    },
    {
      "cell_type": "markdown",
      "id": "4e4f0d18-094d-4fdc-8bd9-4f62d31ca117",
      "metadata": {},
      "source": [
        "### Create a PCollection from the data"
      ]
    },
    {
      "cell_type": "code",
      "execution_count": null,
      "id": "4100ef83-4317-49ca-bc92-151aae1a0fdd",
      "metadata": {},
      "outputs": [],
      "source": [
        "import apache_beam as beam\n",
        "from apache_beam.runners.interactive.interactive_runner import InteractiveRunner\n",
        "from apache_beam.runners.interactive import interactive_beam as ib\n",
        "\n",
        "p = beam.Pipeline(runner=InteractiveRunner())\n",
        "raw_data = p | 'Create PCollection from json' \u003e\u003e beam.Create(current_data)"
      ]
    },
    {
      "cell_type": "markdown",
      "id": "7b540458-2174-4f21-bd59-f4c7c62215cd",
      "metadata": {},
      "source": [
        "### Create a orderable wrapper for the data"
      ]
    },
    {
      "cell_type": "code",
      "execution_count": null,
      "id": "268bc804-9865-4680-9029-df8611368aef",
      "metadata": {},
      "outputs": [],
      "source": [
        "\n",
        "from functools import total_ordering\n",
        "\n",
        "@total_ordering\n",
        "class UsCovidDataOrderByPositive:\n",
        "    def __init__(self, data):\n",
        "        self.data = data\n",
        "    \n",
        "    def __gt__(self, other):\n",
        "        if self.data['positive']:\n",
        "            return self.data['positive'] \u003e other.data['positive']\n",
        "        else:\n",
        "            return False"
      ]
    },
    {
      "cell_type": "markdown",
      "id": "d333e15b-924b-410a-89d7-2b8e8ec211b3",
      "metadata": {},
      "source": [
        "### Pick 4 columns from the data\n",
        "\n",
        "Below code uses a plain dictionary to hold the data.\n",
        "\n",
        "You don't have to define a schema nor explicitily be aware of the type of each field. \n",
        "\n",
        "But this can be dangerous when you write a more complicated pipeline where your assumptions about the data is incorrect.\n",
        "\n",
        "With `visualize_data=True` in `show()`, you can spot the element with the maximum positive in the visualization by setting `Color By positive`."
      ]
    },
    {
      "cell_type": "code",
      "execution_count": null,
      "id": "788c2d32-1b61-4daf-a07c-0d5d20dc1f78",
      "metadata": {},
      "outputs": [],
      "source": [
        "data = raw_data | 'Parse' \u003e\u003e beam.Map(\n",
        "    lambda e: {\n",
        "        'date': e['date'], \n",
        "        'state': e['state'], \n",
        "        'positive': e['positive'], \n",
        "        'negative': e['negative']})\n",
        "ib.show(data, visualize_data=True)"
      ]
    },
    {
      "cell_type": "markdown",
      "id": "81e1d18e-2d41-4297-bb42-f1745b84a329",
      "metadata": {},
      "source": [
        "Find the element with the most positive.\n",
        "\n",
        "This is rather verbose, you have to wrap the data into an orderable wrapper, find the maximum entry by the ordering and then unwrap the data."
      ]
    },
    {
      "cell_type": "code",
      "execution_count": null,
      "id": "00df7e83-deb5-4791-8295-827121029693",
      "metadata": {},
      "outputs": [],
      "source": [
        "entry_with_max_positive = (\n",
        "    data | 'Data OrderByPositive' \u003e\u003e beam.Map(lambda e: UsCovidDataOrderByPositive(e))\n",
        "         | 'Find Maximum Positive' \u003e\u003e beam.CombineGlobally(max)\n",
        "         | 'Convert Back to Data' \u003e\u003e beam.Map(lambda orderable_data: orderable_data.data))\n",
        "ib.show(entry_with_max_positive)"
      ]
    },
    {
      "cell_type": "markdown",
      "id": "08abaf4e-0c10-4c71-a998-0c476b3ccf23",
      "metadata": {},
      "source": [
        "## A pipeline using Beam SQL"
      ]
    },
    {
      "cell_type": "markdown",
      "id": "2987611d-2238-41c8-b238-673ff0cd6847",
      "metadata": {},
      "source": [
        "Let's build the same pipeline but with Beam SQL.\n",
        "\n",
        "There is something wrong with the below schema. It works with normal Beam usage in Python but it doesn't work with Beam SQL. Can you spot the mistakes?"
      ]
    },
    {
      "cell_type": "code",
      "execution_count": null,
      "id": "4c039470-7a8a-4298-9da7-be395c2d3016",
      "metadata": {},
      "outputs": [],
      "source": [
        "from typing import NamedTuple\n",
        "\n",
        "\n",
        "class UsCovidData(NamedTuple):\n",
        "    date: str\n",
        "    state: str\n",
        "    positive: int\n",
        "    negative: int"
      ]
    },
    {
      "cell_type": "markdown",
      "id": "2cad52b2-35e9-4288-a8b4-85a57dcbca39",
      "metadata": {},
      "source": [
        "The answer:\n",
        "\n",
        "- `date` is a keyword in (Calcite)SQL, use a different field name such as `partition_date`;\n",
        "- `date` from the data is an integer type, not str. Make sure you convert the data using `str()` or use `date: int`.\n",
        "- `negative` has missing values and the default is None. So instead of `negative: int`, it should be `negative: Optional[int]`. Or you can convert None into 0 when using the schema."
      ]
    },
    {
      "cell_type": "code",
      "execution_count": null,
      "id": "f56db725-a3ff-4e72-8779-7be1ef3e5408",
      "metadata": {},
      "outputs": [],
      "source": [
        "from typing import Optional\n",
        "\n",
        "\n",
        "# Adjusted schema based on the data\n",
        "class UsCovidData(NamedTuple):\n",
        "    partition_date: str  # Remember to str(e['date']).\n",
        "    state: str\n",
        "    positive: int\n",
        "    negative: Optional[int]"
      ]
    },
    {
      "cell_type": "markdown",
      "id": "3c6aa8cb-33e6-4d85-8760-f8be6531bee9",
      "metadata": {},
      "source": [
        "### Read data"
      ]
    },
    {
      "cell_type": "code",
      "execution_count": null,
      "id": "f425cd72-1e3e-4a35-8b6d-cd27284e811f",
      "metadata": {},
      "outputs": [],
      "source": [
        "p_sql = beam.Pipeline(runner=InteractiveRunner())\n",
        "covid_data = (p_sql \n",
        "        | 'Create PCollection from csv' \u003e\u003e beam.Create(current_data)\n",
        "        | 'Parse' \u003e\u003e beam.Map(\n",
        "            lambda e: UsCovidData(\n",
        "                partition_date=str(e['date']),\n",
        "                state=e['state'],\n",
        "                positive=e['positive'],\n",
        "                negative=e['negative'])).with_output_types(UsCovidData))\n",
        "ib.show(covid_data)"
      ]
    },
    {
      "cell_type": "markdown",
      "id": "62cc5158-6e35-4390-8522-fba7285e438d",
      "metadata": {},
      "source": [
        "### Find the maximum positive value"
      ]
    },
    {
      "cell_type": "code",
      "execution_count": null,
      "id": "3a896dff-b2d8-4a79-9de5-35b3be3c769d",
      "metadata": {},
      "outputs": [],
      "source": [
        "%%beam_sql -o max_positive\n",
        "SELECT partition_date, MAX(positive) AS `positive`\n",
        "FROM covid_data\n",
        "GROUP BY partition_date"
      ]
    },
    {
      "cell_type": "markdown",
      "id": "3d4202b7-99a3-4320-83c3-2ad897a4ba6e",
      "metadata": {},
      "source": [
        "#### Join the maximum positive value with the original data to get the rest fields.\n",
        "\n",
        "Below code also handles the `negative is None` case to use a default value 0."
      ]
    },
    {
      "cell_type": "code",
      "execution_count": null,
      "id": "90dd1e01-0521-44f8-8e7a-6dc65054008c",
      "metadata": {},
      "outputs": [],
      "source": [
        "%%beam_sql -o entry_with_max_positive\n",
        "SELECT covid_data.partition_date, covid_data.state, covid_data.positive, {fn IFNULL(covid_data.negative, 0)} AS `negative`\n",
        "FROM covid_data JOIN max_positive\n",
        "USING (partition_date, positive)"
      ]
    }
  ],
  "metadata": {
    "language_info": {
      "codemirror_mode": {
        "name": "ipython",
        "version": 3
      },
      "file_extension": ".py",
      "mimetype": "text/x-python",
      "name": "python",
      "nbconvert_exporter": "python",
      "pygments_lexer": "ipython3",
      "version": "3.7.12"
    },
    "toc-autonumbering": false,
    "toc-showcode": true,
    "toc-showmarkdowntxt": false
  },
  "nbformat": 4,
  "nbformat_minor": 5
}
